{
 "cells": [
  {
   "cell_type": "code",
   "execution_count": null,
   "id": "1d98322b",
   "metadata": {},
   "outputs": [],
   "source": [
    "from pyspark.sql import SparkSession\n",
    "import os\n"
   ]
  },
  {
   "cell_type": "code",
   "execution_count": null,
   "id": "7397f3f0",
   "metadata": {},
   "outputs": [],
   "source": [
    "spark = SparkSession.builder \\\n",
    "        .master(\"local[12]\") \\\n",
    "        .appName(\"app\") \\\n",
    "        .config(\"spark.driver.memory\", \"45g\") \\\n",
    "        .config(\"spark.executor.memory\", \"45g\") \\\n",
    "        .config(\"spark.jars\", \"postgresql-42.3.3.jar\") \\\n",
    "        .getOrCreate()\n",
    "#spark.sparkContext.setLogLevel(\"DEBUG\")"
   ]
  },
  {
   "cell_type": "code",
   "execution_count": null,
   "id": "06d1e816",
   "metadata": {},
   "outputs": [],
   "source": [
    "spark.sparkContext.setLogLevel(\"WARN\") # ALL, DEBUG, WARN,\n",
    "#spark.sparkContext.setLogLevel(\"ALL\") # ALL, DEBUG, WARN,"
   ]
  },
  {
   "cell_type": "code",
   "execution_count": null,
   "id": "acbbca1a",
   "metadata": {},
   "outputs": [],
   "source": [
    "username = os.environ.get('USERNAME', 'tpch')\n",
    "password = os.environ.get('PASSWORD', 'tpch')\n",
    "dbname = os.environ.get('DBNAME', 'tpch')\n",
    "dbhost = os.environ.get('DBHOST', 'localhost')\n",
    "\n",
    "df_tables = spark.read.format(\"jdbc\") \\\n",
    "    .option(\"url\", f'jdbc:postgresql://{dbhost}:5432/{dbname}') \\\n",
    "    .option(\"driver\", \"org.postgresql.Driver\") \\\n",
    "    .option(\"dbtable\", \"information_schema.tables\") \\\n",
    "    .option(\"user\", username) \\\n",
    "    .option(\"password\", password) \\\n",
    "    .load()\n",
    "\n",
    "for idx, row in df_tables.toPandas().iterrows():\n",
    "        if row.table_schema == 'public':\n",
    "            table_name = row.table_name\n",
    "            df = spark.read.format(\"jdbc\") \\\n",
    "                .option(\"url\", f'jdbc:postgresql://{dbhost}:5432/{dbname}') \\\n",
    "                .option(\"driver\", \"org.postgresql.Driver\") \\\n",
    "                .option(\"dbtable\", table_name) \\\n",
    "                .option(\"user\", username) \\\n",
    "                .option(\"password\", password) \\\n",
    "                .load()\n",
    "    \n",
    "            print(table_name)\n",
    "            print(df.show())\n",
    "            df.createOrReplaceTempView(table_name)"
   ]
  },
  {
   "cell_type": "code",
   "execution_count": null,
   "id": "56ebbb18",
   "metadata": {},
   "outputs": [],
   "source": [
    "spark.sql(\"SET spark.sql.yannakakis.countGroupInLeaves = false\").show()"
   ]
  },
  {
   "cell_type": "code",
   "execution_count": null,
   "id": "dfa45949",
   "metadata": {},
   "outputs": [],
   "source": [
    "spark.sql(\"SET spark.sql.yannakakis.enabled = false\").show()"
   ]
  },
  {
   "cell_type": "code",
   "execution_count": null,
   "id": "4a728c79",
   "metadata": {},
   "outputs": [],
   "source": [
    "spark.sql(\"SET spark.sql.yannakakis.enabled = true\").show()\n",
    "spark.sql(\"SET spark.sql.yannakakis.countGroupInLeaves = false\").show()"
   ]
  },
  {
   "cell_type": "code",
   "execution_count": null,
   "id": "8f2ddf49",
   "metadata": {},
   "outputs": [],
   "source": [
    "spark.sql(\"SET spark.sql.cbo.enabled = true\").show()"
   ]
  },
  {
   "cell_type": "code",
   "execution_count": null,
   "id": "2e5f51e0",
   "metadata": {},
   "outputs": [],
   "source": [
    "spark.sql(\"ANALYZE TABLE part COMPUTE STATISTICS;\").show()"
   ]
  },
  {
   "cell_type": "code",
   "execution_count": null,
   "id": "979d2464",
   "metadata": {
    "scrolled": false
   },
   "outputs": [],
   "source": [
    "df = spark.sql(\"\"\"select\n",
    "        /*+ FK(ps_partkey, p_partkey), FK(n_regionkey, r_regionkey) */\n",
    "\t\tMEDIAN(p_size)\n",
    "\t\tfrom\n",
    "            part,\n",
    "\t\t\tpartsupp,\n",
    "\t\t\tsupplier,\n",
    "\t\t\tnation,\n",
    "\t\t\tregion\n",
    "\t\twhere\n",
    "\t\t\tp_partkey = ps_partkey\n",
    "\t\t\tand s_suppkey = ps_suppkey\n",
    "\t\t\tand s_nationkey = n_nationkey\n",
    "\t\t\tand n_regionkey = r_regionkey\"\"\")\n",
    "\n",
    "df.show(500)\n",
    "\n",
    "df.explain(True)"
   ]
  },
  {
   "cell_type": "code",
   "execution_count": null,
   "id": "c11b3515",
   "metadata": {},
   "outputs": [],
   "source": [
    "def run_query(file):\n",
    "    with open(file, 'r') as f:\n",
    "        query = '\\n'.join(filter(lambda line: not line.startswith('limit') and not line.startswith('-'), f.readlines()))\n",
    "        \n",
    "        print(\"running query: \\n\" + query)\n",
    "        return spark.sql(query)"
   ]
  },
  {
   "cell_type": "code",
   "execution_count": null,
   "id": "5587e1b9",
   "metadata": {},
   "outputs": [],
   "source": [
    "df = spark.sql(\"\"\"\n",
    "SELECT ps_partkey, count(*) from part, partsupp\n",
    "WHERE p_partkey = ps_partkey\n",
    "GROUP BY ps_partkey\n",
    "\"\"\")\n",
    "\n",
    "df.show()\n",
    "\n",
    "df.explain(True)"
   ]
  },
  {
   "cell_type": "code",
   "execution_count": null,
   "id": "08d50f93",
   "metadata": {},
   "outputs": [],
   "source": [
    "df = spark.sql(\"SELECT COUNT(p_size) / COUNT(DISTINCT p_size) FROM part\")\n",
    "df.show()\n",
    "df = spark.sql(\"SELECT COUNT(p_retailprice) / COUNT(DISTINCT p_retailprice) FROM part\")\n",
    "df.show()"
   ]
  },
  {
   "cell_type": "code",
   "execution_count": null,
   "id": "008e187f",
   "metadata": {
    "scrolled": false
   },
   "outputs": [],
   "source": [
    "df_t1 = spark.createDataFrame([(1,1), (2,1), (2,2), (3,2), (3,3), (4,3), (4,3), (5,2), (5,1), (6,4)], schema=(\"a\",\"b\"))\n",
    "df_t1.createOrReplaceTempView(\"t1\")\n",
    "df_t2 = spark.createDataFrame([(1,1), (2,1), (3,2), (3,2), (3,3), (3,3), (4,3), (4,2), (5,1), (6,4)], schema=(\"c\",\"d\"))\n",
    "df_t2.createOrReplaceTempView(\"t2\")\n",
    "df_t3 = spark.createDataFrame([(1,1), (2,1), (3,2), (3,2), (3,3), (3,3), (4,3), (4,2), (5,1), (6,4)], schema=(\"e\",\"f\"))\n",
    "df_t3.createOrReplaceTempView(\"t3\")\n",
    "\n",
    "query = \"select median(a) from t1, t2 where b = c\"\n",
    "#query = \"select percentile(a, 0.5, b) from t1, t2 where b = c\"\n",
    "#query = \"select median(a) from t1 where EXISTS (SELECT 1 FROM t2 WHERE b = c)\"\n",
    "#query = \"select count(*) from t1, t2 where b = c\"\n",
    "#query = \"select *a from t1 where EXISTS (SELECT 1 FROM t2 WHERE b = c)\"\n",
    "\n",
    "spark.sql(\"SET spark.sql.yannakakis.enabled = false\").show()\n",
    "\n",
    "df = spark.sql(query)\n",
    "df.show()\n",
    "\n",
    "spark.sql(\"SET spark.sql.yannakakis.enabled = true\").show()\n",
    "\n",
    "df = spark.sql(query)\n",
    "df.show()"
   ]
  },
  {
   "cell_type": "code",
   "execution_count": null,
   "id": "44762b17",
   "metadata": {},
   "outputs": [],
   "source": [
    "spark.conf.set(\"spark.sql.legacy.setCommandRejectsSparkCoreConfs\",\"false\")\n",
    "#spark.conf.set(\"spark.executor.cores\", \"6\")\n",
    "#spark.conf.set(\"spark.executor.instances\", \"6\")\n",
    "spark.conf.set(\"spark.sql.shuffle.partitions\", \"6\")"
   ]
  },
  {
   "cell_type": "code",
   "execution_count": null,
   "id": "ead489e7",
   "metadata": {
    "scrolled": false
   },
   "outputs": [],
   "source": [
    "import pandas as pd\n",
    "import time\n",
    "\n",
    "def benchmark(query):\n",
    "    df0 = run_query(query)\n",
    "    df0.show()\n",
    "    \n",
    "    spark.sql(\"SET spark.sql.yannakakis.enabled = true\").show()\n",
    "\n",
    "    start_time = time.time()\n",
    "\n",
    "    df1 = run_query(query)\n",
    "    df1.show()\n",
    "    #df1.explain(True)\n",
    "\n",
    "    end_time = time.time()\n",
    "    yannakakis_time = end_time - start_time\n",
    "\n",
    "    spark.sql(\"SET spark.sql.yannakakis.enabled = false\").show()\n",
    "\n",
    "    start_time = time.time()\n",
    "\n",
    "    df2 = run_query(query)\n",
    "    df2.show()\n",
    "    #df2.explain(True)\n",
    "\n",
    "    end_time = time.time()\n",
    "    ref_time = end_time - start_time\n",
    "    \n",
    "    #return [query, ref_time, yannakakis_time]\n",
    "    return [query, ref_time, yannakakis_time]\n",
    "\n",
    "\n",
    "queries = ['tpch-kit/dbgen/queries/postgres/2.sql',\n",
    "           'tpch-kit/dbgen/queries/postgres/11.sql', \n",
    "           'tpch-kit/dbgen/queries/postgres/11-hint.sql',\n",
    "           'median-1.sql',\n",
    "           'median-2.sql', \n",
    "           'median-3.sql', \n",
    "           'median-4.sql', \n",
    "           'median-5.sql',\n",
    "            'median-1-hint.sql',\n",
    "           'median-2-hint.sql', \n",
    "           'median-3-hint.sql', \n",
    "           'median-4-hint.sql', \n",
    "           'median-5-hint.sql']\n",
    "\n",
    "results = [benchmark(q) for q in queries]\n",
    "\n",
    "df = pd.DataFrame(results, columns = ['query', 'ref_time', 'yannakakis_time'])\n",
    "\n",
    "print(df)\n",
    "\n",
    "df.to_csv(\"results.csv\")\n",
    "    \n",
    "\n",
    "#print(f'row count: {df1.count()} vs. {df2.count()}' )\n",
    "    #print(f'time ref: {ref_time}\\ntime yannakakis: {yannakakis_time}')"
   ]
  },
  {
   "cell_type": "code",
   "execution_count": null,
   "id": "1283025b",
   "metadata": {},
   "outputs": [],
   "source": [
    "#spark.conf.set(\"spark.sql.legacy.setCommandRejectsSparkCoreConfs\",\"false\")\n",
    "#spark.conf.set(\"spark.executor.cores\", \"1\")\n",
    "#spark.conf.set(\"spark.executor.instances\", \"1\")\n",
    "spark.conf.set(\"spark.sql.shuffle.partitions\", \"1\")"
   ]
  },
  {
   "cell_type": "code",
   "execution_count": null,
   "id": "9bd2cc0e",
   "metadata": {
    "scrolled": false
   },
   "outputs": [],
   "source": [
    "## Compare result\n",
    "import time\n",
    "#query = 'tpch-kit/dbgen/queries/postgres/2.sql'\n",
    "#query = 'tpch-kit/dbgen/queries/postgres/13.sql'\n",
    "#query = 'count-3.sql'\n",
    "#query = 'tpch-kit/dbgen/queries/postgres/11.sql'\n",
    "#query = '11-simple.sql'\n",
    "query = 'median-2-hint.sql'\n",
    "#query = 'tpch-kit/dbgen/queries/postgres/7.sql'\n",
    "#query = '13-simple.sql'\n",
    "\n",
    "spark.sql(\"SET spark.sql.yannakakis.enabled = true\").show()\n",
    "\n",
    "start_time = time.time()\n",
    "\n",
    "df1 = run_query(query)\n",
    "df1.show()\n",
    "df1.explain(mode=\"extended\")\n",
    "\n",
    "end_time = time.time()\n",
    "yannakakis_time = end_time - start_time\n",
    "\n",
    "spark.sql(\"SET spark.sql.yannakakis.enabled = false\").show()\n",
    "\n",
    "start_time = time.time()\n",
    "\n",
    "df2 = run_query(query)\n",
    "df2.show()\n",
    "df2.explain(mode=\"extended\")\n",
    "\n",
    "end_time = time.time()\n",
    "ref_time = end_time - start_time\n",
    "\n",
    "#print(f'row count: {df1.count()} vs. {df2.count()}' )\n",
    "print(f'time ref: {ref_time}\\ntime yannakakis: {yannakakis_time}')"
   ]
  },
  {
   "cell_type": "markdown",
   "id": "09492e05",
   "metadata": {},
   "source": []
  },
  {
   "cell_type": "code",
   "execution_count": null,
   "id": "67544c5b",
   "metadata": {},
   "outputs": [],
   "source": []
  }
 ],
 "metadata": {
  "kernelspec": {
   "display_name": "Python 3 (ipykernel)",
   "language": "python",
   "name": "python3"
  },
  "language_info": {
   "codemirror_mode": {
    "name": "ipython",
    "version": 3
   },
   "file_extension": ".py",
   "mimetype": "text/x-python",
   "name": "python",
   "nbconvert_exporter": "python",
   "pygments_lexer": "ipython3",
   "version": "3.10.12"
  }
 },
 "nbformat": 4,
 "nbformat_minor": 5
}
