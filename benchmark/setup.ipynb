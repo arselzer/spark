{
 "cells": [
  {
   "cell_type": "markdown",
   "id": "e216c73a-8d87-4399-a380-c815b04e4244",
   "metadata": {},
   "source": [
    "## Install the custom pyspark package"
   ]
  },
  {
   "cell_type": "code",
   "execution_count": 1,
   "id": "29e33b86-939a-44ba-aa19-f365819bd3a5",
   "metadata": {},
   "outputs": [
    {
     "name": "stdout",
     "output_type": "stream",
     "text": [
      "Processing ./pyspark-3.5.0.dev0.tar.gz\n",
      "  Preparing metadata (setup.py): started\n",
      "  Preparing metadata (setup.py): finished with status 'done'\n",
      "Requirement already satisfied: py4j==0.10.9.7 in /usr/local/lib/python3.10/dist-packages (from pyspark==3.5.0.dev0) (0.10.9.7)\n",
      "Building wheels for collected packages: pyspark\n",
      "  Building wheel for pyspark (setup.py): started\n",
      "  Building wheel for pyspark (setup.py): finished with status 'done'\n",
      "  Created wheel for pyspark: filename=pyspark-3.5.0.dev0-py2.py3-none-any.whl size=258907706 sha256=e5830a26b15837140a3bd4a9ed2ebe23848e4ece98851195ec24d729e44b68bc\n",
      "  Stored in directory: /root/.cache/pip/wheels/09/88/fa/a22881c4ebc798868daf7cf5183c18d7081e6dc2ac0d0befd1\n",
      "Successfully built pyspark\n",
      "Installing collected packages: pyspark\n",
      "  Attempting uninstall: pyspark\n",
      "    Found existing installation: pyspark 3.5.0.dev0\n",
      "    Uninstalling pyspark-3.5.0.dev0:\n",
      "      Successfully uninstalled pyspark-3.5.0.dev0\n",
      "Successfully installed pyspark-3.5.0.dev0\n"
     ]
    },
    {
     "name": "stderr",
     "output_type": "stream",
     "text": [
      "WARNING: Running pip as the 'root' user can result in broken permissions and conflicting behaviour with the system package manager. It is recommended to use a virtual environment instead: https://pip.pypa.io/warnings/venv\n"
     ]
    }
   ],
   "source": [
    "%%bash\n",
    "./install-pyspark.sh"
   ]
  },
  {
   "cell_type": "markdown",
   "id": "032793ce-eb0b-4c86-9524-b34553603b40",
   "metadata": {},
   "source": [
    "## Create the DB users"
   ]
  },
  {
   "cell_type": "code",
   "execution_count": 5,
   "id": "b717d04a-34ac-44b6-82e9-e0bbd88f9429",
   "metadata": {},
   "outputs": [
    {
     "name": "stderr",
     "output_type": "stream",
     "text": [
      "ERROR:  role \"lsqb\" already exists\n",
      "ERROR:  database \"lsqb\" already exists\n"
     ]
    },
    {
     "name": "stdout",
     "output_type": "stream",
     "text": [
      "GRANT\n",
      "You are now connected to database \"lsqb\" as user \"postgres\".\n",
      "GRANT\n"
     ]
    },
    {
     "name": "stderr",
     "output_type": "stream",
     "text": [
      "ERROR:  role \"snap\" already exists\n",
      "ERROR:  database \"snap\" already exists\n"
     ]
    },
    {
     "name": "stdout",
     "output_type": "stream",
     "text": [
      "GRANT\n",
      "You are now connected to database \"snap\" as user \"postgres\".\n",
      "GRANT\n"
     ]
    },
    {
     "name": "stderr",
     "output_type": "stream",
     "text": [
      "ERROR:  role \"tpcds\" already exists\n",
      "ERROR:  database \"tpcds\" already exists\n"
     ]
    },
    {
     "name": "stdout",
     "output_type": "stream",
     "text": [
      "GRANT\n",
      "You are now connected to database \"tpcds\" as user \"postgres\".\n",
      "GRANT\n"
     ]
    },
    {
     "name": "stderr",
     "output_type": "stream",
     "text": [
      "ERROR:  role \"tpch\" already exists\n",
      "ERROR:  database \"tpch\" already exists\n"
     ]
    },
    {
     "name": "stdout",
     "output_type": "stream",
     "text": [
      "GRANT\n",
      "You are now connected to database \"tpch\" as user \"postgres\".\n",
      "GRANT\n"
     ]
    }
   ],
   "source": [
    "%%bash\n",
    "\n",
    "export PGPASSWORD=postgres\n",
    "\n",
    "create_db() {\n",
    "cat <<EOF\n",
    "        create user $1 with password '$1';\n",
    "        create database $1;\n",
    "        grant all privileges on database $1 to $1;\n",
    "        \\c $1 postgres\n",
    "        grant all on schema public to $1;\n",
    "EOF\n",
    "}\n",
    "\n",
    "dbnames=(lsqb snap tpcds tpch)\n",
    "\n",
    "psql --host=postgres --username postgres --dbname postgres <<-EOSQL\n",
    "        $(create_db lsqb)\n",
    "        $(create_db snap)\n",
    "        $(create_db tpcds)\n",
    "        $(create_db tpch)\n",
    "EOSQL"
   ]
  },
  {
   "cell_type": "markdown",
   "id": "4ffd1ec3-37f2-48cb-aa3d-37b44a3d0392",
   "metadata": {},
   "source": [
    "## Fetch LSQB data"
   ]
  },
  {
   "cell_type": "code",
   "execution_count": 14,
   "id": "05f4260b-48db-4f22-86c9-4ea1a65b56e3",
   "metadata": {},
   "outputs": [
    {
     "name": "stderr",
     "output_type": "stream",
     "text": [
      "\n",
      "WARNING: apt does not have a stable CLI interface. Use with caution in scripts.\n",
      "\n"
     ]
    },
    {
     "name": "stdout",
     "output_type": "stream",
     "text": [
      "Reading package lists...\n",
      "Building dependency tree...\n",
      "Reading state information...\n",
      "The following NEW packages will be installed:\n",
      "  zstd\n",
      "0 upgraded, 1 newly installed, 0 to remove and 6 not upgraded.\n",
      "Need to get 603 kB of archives.\n",
      "After this operation, 1695 kB of additional disk space will be used.\n",
      "Get:1 http://archive.ubuntu.com/ubuntu jammy/main amd64 zstd amd64 1.4.8+dfsg-3build1 [603 kB]\n"
     ]
    },
    {
     "name": "stderr",
     "output_type": "stream",
     "text": [
      "debconf: delaying package configuration, since apt-utils is not installed\n"
     ]
    },
    {
     "name": "stdout",
     "output_type": "stream",
     "text": [
      "Fetched 603 kB in 1s (832 kB/s)\n",
      "Selecting previously unselected package zstd.\n",
      "(Reading database ... 34094 files and directories currently installed.)\n",
      "Preparing to unpack .../zstd_1.4.8+dfsg-3build1_amd64.deb ...\n",
      "Unpacking zstd (1.4.8+dfsg-3build1) ...\n",
      "Setting up zstd (1.4.8+dfsg-3build1) ...\n",
      "Downloading scale factor 0.1\n",
      "Downloading scale factor 0.3\n",
      "Downloading scale factor 1\n",
      "Downloading scale factor 3\n",
      "Downloading scale factor 10\n",
      "Downloading scale factor 30\n",
      "Downloading scale factor 100\n",
      "Downloading scale factor 300\n"
     ]
    },
    {
     "name": "stderr",
     "output_type": "stream",
     "text": [
      "tar: social-network-sf300-merged-fk/Comment.csv: Wrote only 5632 of 10240 bytes\n",
      "tar: social-network-sf300-merged-fk/Person_workAt_Company.csv: Cannot write: No space left on device\n",
      "tar: social-network-sf300-merged-fk/TagClass.csv: Cannot write: No space left on device\n",
      "tar: social-network-sf300-merged-fk/Post.csv: Cannot write: No space left on device\n",
      "tar: social-network-sf300-merged-fk/Forum_hasMember_Person.csv: Cannot write: No space left on device\n"
     ]
    },
    {
     "name": "stdout",
     "output_type": "stream",
     "text": [
      "Process is interrupted.\n"
     ]
    }
   ],
   "source": [
    "%%bash\n",
    "apt install zstd\n",
    "cd lsqb\n",
    "export MAX_SF=1000\n",
    "./scripts/download-merged-fk-data-sets.sh"
   ]
  },
  {
   "cell_type": "markdown",
   "id": "fba27672-bc04-40fe-95f0-2c6989a6a3cd",
   "metadata": {},
   "source": [
    "## Import the LSQB benchmark data"
   ]
  },
  {
   "cell_type": "code",
   "execution_count": 6,
   "id": "084ad51a-7481-4a4d-8add-52f75485dc36",
   "metadata": {},
   "outputs": [
    {
     "name": "stderr",
     "output_type": "stream",
     "text": [
      "psql:lsqb/sql/drop.sql:1: NOTICE:  view \"message\" does not exist, skipping\n"
     ]
    },
    {
     "name": "stdout",
     "output_type": "stream",
     "text": [
      "DROP VIEW\n",
      "DROP VIEW\n",
      "DROP VIEW\n",
      "DROP VIEW\n",
      "DROP VIEW\n",
      "DROP VIEW\n",
      "DROP TABLE\n",
      "DROP TABLE\n"
     ]
    },
    {
     "name": "stderr",
     "output_type": "stream",
     "text": [
      "psql:lsqb/sql/drop.sql:2: NOTICE:  view \"comment_replyof_message\" does not exist, skipping\n",
      "psql:lsqb/sql/drop.sql:3: NOTICE:  view \"message_hascreator_person\" does not exist, skipping\n",
      "psql:lsqb/sql/drop.sql:4: NOTICE:  view \"message_hastag_tag\" does not exist, skipping\n",
      "psql:lsqb/sql/drop.sql:5: NOTICE:  view \"message_islocatedin_country\" does not exist, skipping\n",
      "psql:lsqb/sql/drop.sql:6: NOTICE:  view \"person_likes_message\" does not exist, skipping\n",
      "psql:lsqb/sql/drop.sql:8: NOTICE:  table \"company\" does not exist, skipping\n",
      "psql:lsqb/sql/drop.sql:9: NOTICE:  table \"university\" does not exist, skipping\n",
      "psql:lsqb/sql/drop.sql:10: NOTICE:  table \"continent\" does not exist, skipping\n"
     ]
    },
    {
     "name": "stdout",
     "output_type": "stream",
     "text": [
      "DROP TABLE\n",
      "DROP TABLE\n",
      "DROP TABLE\n",
      "DROP TABLE\n",
      "DROP TABLE\n",
      "DROP TABLE\n",
      "DROP TABLE\n",
      "DROP TABLE\n",
      "DROP TABLE\n",
      "DROP TABLE\n",
      "DROP TABLE\n",
      "DROP TABLE\n",
      "DROP TABLE\n",
      "DROP TABLE\n",
      "DROP TABLE\n",
      "DROP TABLE\n",
      "DROP TABLE\n",
      "DROP TABLE\n",
      "DROP TABLE\n"
     ]
    },
    {
     "name": "stderr",
     "output_type": "stream",
     "text": [
      "psql:lsqb/sql/drop.sql:11: NOTICE:  table \"country\" does not exist, skipping\n",
      "psql:lsqb/sql/drop.sql:12: NOTICE:  table \"city\" does not exist, skipping\n",
      "psql:lsqb/sql/drop.sql:13: NOTICE:  table \"tag\" does not exist, skipping\n",
      "psql:lsqb/sql/drop.sql:14: NOTICE:  table \"tagclass\" does not exist, skipping\n",
      "psql:lsqb/sql/drop.sql:15: NOTICE:  table \"forum\" does not exist, skipping\n",
      "psql:lsqb/sql/drop.sql:16: NOTICE:  table \"comment\" does not exist, skipping\n",
      "psql:lsqb/sql/drop.sql:17: NOTICE:  table \"post\" does not exist, skipping\n",
      "psql:lsqb/sql/drop.sql:18: NOTICE:  table \"person\" does not exist, skipping\n",
      "psql:lsqb/sql/drop.sql:19: NOTICE:  table \"comment_hastag_tag\" does not exist, skipping\n",
      "psql:lsqb/sql/drop.sql:20: NOTICE:  table \"post_hastag_tag\" does not exist, skipping\n",
      "psql:lsqb/sql/drop.sql:21: NOTICE:  table \"forum_hasmember_person\" does not exist, skipping\n",
      "psql:lsqb/sql/drop.sql:22: NOTICE:  table \"forum_hastag_tag\" does not exist, skipping\n",
      "psql:lsqb/sql/drop.sql:23: NOTICE:  table \"person_hasinterest_tag\" does not exist, skipping\n",
      "psql:lsqb/sql/drop.sql:24: NOTICE:  table \"person_likes_comment\" does not exist, skipping\n",
      "psql:lsqb/sql/drop.sql:25: NOTICE:  table \"person_likes_post\" does not exist, skipping\n",
      "psql:lsqb/sql/drop.sql:26: NOTICE:  table \"person_studyat_university\" does not exist, skipping\n",
      "psql:lsqb/sql/drop.sql:27: NOTICE:  table \"person_workat_company\" does not exist, skipping\n",
      "psql:lsqb/sql/drop.sql:28: NOTICE:  table \"person_knows_person\" does not exist, skipping\n"
     ]
    },
    {
     "name": "stdout",
     "output_type": "stream",
     "text": [
      "CREATE TABLE\n",
      "CREATE TABLE\n",
      "CREATE TABLE\n",
      "CREATE TABLE\n",
      "CREATE TABLE\n",
      "CREATE TABLE\n",
      "CREATE TABLE\n",
      "CREATE TABLE\n",
      "CREATE TABLE\n",
      "CREATE TABLE\n",
      "CREATE TABLE\n",
      "CREATE TABLE\n",
      "CREATE TABLE\n",
      "CREATE TABLE\n",
      "CREATE TABLE\n",
      "CREATE TABLE\n",
      "CREATE TABLE\n",
      "CREATE TABLE\n",
      "CREATE TABLE\n",
      "CREATE TABLE\n",
      "CREATE TABLE\n"
     ]
    },
    {
     "name": "stderr",
     "output_type": "stream",
     "text": [
      "/benchmark/lsqb/data/social-network-sf1-merged-fk/Company.csv: No such file or directory\n",
      "/benchmark/lsqb/data/social-network-sf1-merged-fk/University.csv: No such file or directory\n",
      "/benchmark/lsqb/data/social-network-sf1-merged-fk/Continent.csv: No such file or directory\n",
      "/benchmark/lsqb/data/social-network-sf1-merged-fk/Country.csv: No such file or directory\n",
      "/benchmark/lsqb/data/social-network-sf1-merged-fk/City.csv: No such file or directory\n",
      "/benchmark/lsqb/data/social-network-sf1-merged-fk/Forum.csv: No such file or directory\n",
      "/benchmark/lsqb/data/social-network-sf1-merged-fk/Comment.csv: No such file or directory\n",
      "/benchmark/lsqb/data/social-network-sf1-merged-fk/Post.csv: No such file or directory\n",
      "/benchmark/lsqb/data/social-network-sf1-merged-fk/Person.csv: No such file or directory\n",
      "/benchmark/lsqb/data/social-network-sf1-merged-fk/Tag.csv: No such file or directory\n",
      "/benchmark/lsqb/data/social-network-sf1-merged-fk/TagClass.csv: No such file or directory\n",
      "/benchmark/lsqb/data/social-network-sf1-merged-fk/Comment_hasTag_Tag.csv: No such file or directory\n",
      "/benchmark/lsqb/data/social-network-sf1-merged-fk/Post_hasTag_Tag.csv: No such file or directory\n",
      "/benchmark/lsqb/data/social-network-sf1-merged-fk/Forum_hasMember_Person.csv: No such file or directory\n",
      "/benchmark/lsqb/data/social-network-sf1-merged-fk/Forum_hasTag_Tag.csv: No such file or directory\n",
      "/benchmark/lsqb/data/social-network-sf1-merged-fk/Person_hasInterest_Tag.csv: No such file or directory\n",
      "/benchmark/lsqb/data/social-network-sf1-merged-fk/Person_likes_Comment.csv: No such file or directory\n",
      "/benchmark/lsqb/data/social-network-sf1-merged-fk/Person_likes_Post.csv: No such file or directory\n",
      "/benchmark/lsqb/data/social-network-sf1-merged-fk/Person_studyAt_University.csv: No such file or directory\n",
      "/benchmark/lsqb/data/social-network-sf1-merged-fk/Person_workAt_Company.csv: No such file or directory\n",
      "/benchmark/lsqb/data/social-network-sf1-merged-fk/Person_knows_Person.csv: No such file or directory\n",
      "/benchmark/lsqb/data/social-network-sf1-merged-fk/Person_knows_Person.csv: No such file or directory\n"
     ]
    },
    {
     "name": "stdout",
     "output_type": "stream",
     "text": [
      "CREATE VIEW\n",
      "CREATE VIEW\n",
      "CREATE VIEW\n",
      "CREATE VIEW\n",
      "CREATE VIEW\n",
      "CREATE VIEW\n"
     ]
    }
   ],
   "source": [
    "%%bash\n",
    "./import-lsqb.sh"
   ]
  },
  {
   "cell_type": "code",
   "execution_count": null,
   "id": "c8e0f40e-b4c9-434d-9799-b1c457a37e45",
   "metadata": {},
   "outputs": [],
   "source": []
  }
 ],
 "metadata": {
  "kernelspec": {
   "display_name": "Python 3 (ipykernel)",
   "language": "python",
   "name": "python3"
  },
  "language_info": {
   "codemirror_mode": {
    "name": "ipython",
    "version": 3
   },
   "file_extension": ".py",
   "mimetype": "text/x-python",
   "name": "python",
   "nbconvert_exporter": "python",
   "pygments_lexer": "ipython3",
   "version": "3.10.12"
  }
 },
 "nbformat": 4,
 "nbformat_minor": 5
}
