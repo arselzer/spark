{
 "cells": [
  {
   "cell_type": "markdown",
   "id": "85512272-13e5-4a4b-9023-c0ee0cdd1e41",
   "metadata": {},
   "source": [
    "## Install python packages"
   ]
  },
  {
   "cell_type": "code",
   "execution_count": 9,
   "id": "8f6fe991-9e22-48b4-8da7-9c9096a4bd0f",
   "metadata": {},
   "outputs": [
    {
     "name": "stdout",
     "output_type": "stream",
     "text": [
      "Collecting pandas\n",
      "  Downloading pandas-2.1.2-cp310-cp310-manylinux_2_17_x86_64.manylinux2014_x86_64.whl (12.3 MB)\n",
      "     ━━━━━━━━━━━━━━━━━━━━━━━━━━━━━━━━━━━━━━━━ 12.3/12.3 MB 77.8 MB/s eta 0:00:00\n",
      "Collecting pytz>=2020.1\n",
      "  Downloading pytz-2023.3.post1-py2.py3-none-any.whl (502 kB)\n",
      "     ━━━━━━━━━━━━━━━━━━━━━━━━━━━━━━━━━━━━━━ 502.5/502.5 KB 69.7 MB/s eta 0:00:00\n",
      "Collecting tzdata>=2022.1\n",
      "  Downloading tzdata-2023.3-py2.py3-none-any.whl (341 kB)\n",
      "     ━━━━━━━━━━━━━━━━━━━━━━━━━━━━━━━━━━━━━━ 341.8/341.8 KB 64.1 MB/s eta 0:00:00\n",
      "Collecting numpy<2,>=1.22.4\n",
      "  Downloading numpy-1.26.1-cp310-cp310-manylinux_2_17_x86_64.manylinux2014_x86_64.whl (18.2 MB)\n",
      "     ━━━━━━━━━━━━━━━━━━━━━━━━━━━━━━━━━━━━━━━━ 18.2/18.2 MB 92.2 MB/s eta 0:00:00\n",
      "Requirement already satisfied: python-dateutil>=2.8.2 in /usr/local/lib/python3.10/dist-packages (from pandas) (2.8.2)\n",
      "Requirement already satisfied: six>=1.5 in /usr/local/lib/python3.10/dist-packages (from python-dateutil>=2.8.2->pandas) (1.16.0)\n",
      "Installing collected packages: pytz, tzdata, numpy, pandas\n",
      "Successfully installed numpy-1.26.1 pandas-2.1.2 pytz-2023.3.post1 tzdata-2023.3\n"
     ]
    },
    {
     "name": "stderr",
     "output_type": "stream",
     "text": [
      "WARNING: Running pip as the 'root' user can result in broken permissions and conflicting behaviour with the system package manager. It is recommended to use a virtual environment instead: https://pip.pypa.io/warnings/venv\n"
     ]
    }
   ],
   "source": [
    "%%bash\n",
    "\n",
    "pip3 install pandas"
   ]
  },
  {
   "cell_type": "markdown",
   "id": "e216c73a-8d87-4399-a380-c815b04e4244",
   "metadata": {},
   "source": [
    "## Install the custom pyspark package"
   ]
  },
  {
   "cell_type": "code",
   "execution_count": 1,
   "id": "29e33b86-939a-44ba-aa19-f365819bd3a5",
   "metadata": {},
   "outputs": [
    {
     "name": "stdout",
     "output_type": "stream",
     "text": [
      "Processing ./pyspark-3.5.0.dev0.tar.gz\n",
      "  Preparing metadata (setup.py): started\n",
      "  Preparing metadata (setup.py): finished with status 'done'\n",
      "Collecting py4j==0.10.9.7\n",
      "  Downloading py4j-0.10.9.7-py2.py3-none-any.whl (200 kB)\n",
      "     ━━━━━━━━━━━━━━━━━━━━━━━━━━━━━━━━━━━━━━━ 200.5/200.5 KB 5.8 MB/s eta 0:00:00\n",
      "Building wheels for collected packages: pyspark\n",
      "  Building wheel for pyspark (setup.py): started\n",
      "  Building wheel for pyspark (setup.py): finished with status 'done'\n",
      "  Created wheel for pyspark: filename=pyspark-3.5.0.dev0-py2.py3-none-any.whl size=258907706 sha256=7adc3d8ebd06305f39744179fce878e68b98ca73091e26bb76fa641d501bca2c\n",
      "  Stored in directory: /root/.cache/pip/wheels/09/88/fa/a22881c4ebc798868daf7cf5183c18d7081e6dc2ac0d0befd1\n",
      "Successfully built pyspark\n",
      "Installing collected packages: py4j, pyspark\n",
      "Successfully installed py4j-0.10.9.7 pyspark-3.5.0.dev0\n"
     ]
    },
    {
     "name": "stderr",
     "output_type": "stream",
     "text": [
      "WARNING: Running pip as the 'root' user can result in broken permissions and conflicting behaviour with the system package manager. It is recommended to use a virtual environment instead: https://pip.pypa.io/warnings/venv\n"
     ]
    }
   ],
   "source": [
    "%%bash\n",
    "./install-pyspark.sh"
   ]
  },
  {
   "cell_type": "markdown",
   "id": "032793ce-eb0b-4c86-9524-b34553603b40",
   "metadata": {},
   "source": [
    "## Create the DB users"
   ]
  },
  {
   "cell_type": "code",
   "execution_count": 2,
   "id": "b717d04a-34ac-44b6-82e9-e0bbd88f9429",
   "metadata": {},
   "outputs": [
    {
     "name": "stderr",
     "output_type": "stream",
     "text": [
      "ERROR:  role \"lsqb\" already exists\n",
      "ERROR:  database \"lsqb\" already exists\n"
     ]
    },
    {
     "name": "stdout",
     "output_type": "stream",
     "text": [
      "GRANT\n",
      "You are now connected to database \"lsqb\" as user \"postgres\".\n",
      "GRANT\n"
     ]
    },
    {
     "name": "stderr",
     "output_type": "stream",
     "text": [
      "ERROR:  role \"snap\" already exists\n",
      "ERROR:  database \"snap\" already exists\n"
     ]
    },
    {
     "name": "stdout",
     "output_type": "stream",
     "text": [
      "GRANT\n",
      "You are now connected to database \"snap\" as user \"postgres\".\n",
      "GRANT\n"
     ]
    },
    {
     "name": "stderr",
     "output_type": "stream",
     "text": [
      "ERROR:  role \"tpcds\" already exists\n",
      "ERROR:  database \"tpcds\" already exists\n"
     ]
    },
    {
     "name": "stdout",
     "output_type": "stream",
     "text": [
      "GRANT\n",
      "You are now connected to database \"tpcds\" as user \"postgres\".\n",
      "GRANT\n"
     ]
    },
    {
     "name": "stderr",
     "output_type": "stream",
     "text": [
      "ERROR:  role \"tpch\" already exists\n",
      "ERROR:  database \"tpch\" already exists\n"
     ]
    },
    {
     "name": "stdout",
     "output_type": "stream",
     "text": [
      "GRANT\n",
      "You are now connected to database \"tpch\" as user \"postgres\".\n",
      "GRANT\n"
     ]
    }
   ],
   "source": [
    "%%bash\n",
    "\n",
    "export PGPASSWORD=postgres\n",
    "\n",
    "create_db() {\n",
    "cat <<EOF\n",
    "        create user $1 with password '$1';\n",
    "        create database $1;\n",
    "        grant all privileges on database $1 to $1;\n",
    "        \\c $1 postgres\n",
    "        grant all on schema public to $1;\n",
    "EOF\n",
    "}\n",
    "\n",
    "dbnames=(lsqb snap tpcds tpch)\n",
    "\n",
    "psql --host=postgres --username postgres --dbname postgres <<-EOSQL\n",
    "        $(create_db lsqb)\n",
    "        $(create_db snap)\n",
    "        $(create_db tpcds)\n",
    "        $(create_db tpch)\n",
    "EOSQL"
   ]
  },
  {
   "cell_type": "markdown",
   "id": "4ffd1ec3-37f2-48cb-aa3d-37b44a3d0392",
   "metadata": {},
   "source": [
    "## Fetch LSQB data"
   ]
  },
  {
   "cell_type": "code",
   "execution_count": 7,
   "id": "05f4260b-48db-4f22-86c9-4ea1a65b56e3",
   "metadata": {},
   "outputs": [
    {
     "name": "stderr",
     "output_type": "stream",
     "text": [
      "\n",
      "WARNING: apt does not have a stable CLI interface. Use with caution in scripts.\n",
      "\n"
     ]
    },
    {
     "name": "stdout",
     "output_type": "stream",
     "text": [
      "Reading package lists...\n",
      "Building dependency tree...\n",
      "Reading state information...\n",
      "curl is already the newest version (7.81.0-1ubuntu1.14).\n",
      "0 upgraded, 0 newly installed, 0 to remove and 6 not upgraded.\n",
      "Downloading scale factor 0.1\n",
      "Downloading scale factor 0.3\n",
      "Downloading scale factor 1\n",
      "Downloading scale factor 3\n",
      "Downloading scale factor 10\n",
      "Downloading scale factor 30\n",
      "Downloading scale factor 100\n",
      "Downloading scale factor 300\n"
     ]
    }
   ],
   "source": [
    "%%bash\n",
    "cd lsqb\n",
    "export MAX_SF=300\n",
    "./scripts/download-merged-fk-data-sets.sh\n",
    "cd .."
   ]
  },
  {
   "cell_type": "markdown",
   "id": "fba27672-bc04-40fe-95f0-2c6989a6a3cd",
   "metadata": {},
   "source": [
    "## Import the LSQB benchmark data"
   ]
  },
  {
   "cell_type": "code",
   "execution_count": 11,
   "id": "084ad51a-7481-4a4d-8add-52f75485dc36",
   "metadata": {},
   "outputs": [
    {
     "name": "stdout",
     "output_type": "stream",
     "text": [
      "DROP VIEW\n",
      "DROP VIEW\n",
      "DROP VIEW\n",
      "DROP VIEW\n",
      "DROP VIEW\n",
      "DROP VIEW\n",
      "DROP TABLE\n",
      "DROP TABLE\n",
      "DROP TABLE\n",
      "DROP TABLE\n",
      "DROP TABLE\n",
      "DROP TABLE\n",
      "DROP TABLE\n",
      "DROP TABLE\n",
      "DROP TABLE\n",
      "DROP TABLE\n",
      "DROP TABLE\n",
      "DROP TABLE\n",
      "DROP TABLE\n",
      "DROP TABLE\n",
      "DROP TABLE\n",
      "DROP TABLE\n",
      "DROP TABLE\n",
      "DROP TABLE\n",
      "DROP TABLE\n",
      "DROP TABLE\n",
      "DROP TABLE\n",
      "CREATE TABLE\n",
      "CREATE TABLE\n",
      "CREATE TABLE\n",
      "CREATE TABLE\n",
      "CREATE TABLE\n",
      "CREATE TABLE\n",
      "CREATE TABLE\n",
      "CREATE TABLE\n",
      "CREATE TABLE\n",
      "CREATE TABLE\n",
      "CREATE TABLE\n",
      "CREATE TABLE\n",
      "CREATE TABLE\n",
      "CREATE TABLE\n",
      "CREATE TABLE\n",
      "CREATE TABLE\n",
      "CREATE TABLE\n",
      "CREATE TABLE\n",
      "CREATE TABLE\n",
      "CREATE TABLE\n",
      "CREATE TABLE\n",
      "COPY 1575\n",
      "COPY 6380\n",
      "COPY 6\n",
      "COPY 111\n",
      "COPY 1343\n",
      "COPY 1831640\n",
      "COPY 77110476\n",
      "COPY 24025658\n",
      "COPY 184000\n",
      "COPY 16080\n",
      "COPY 71\n",
      "COPY 96662059\n",
      "COPY 25336957\n",
      "COPY 105337003\n",
      "COPY 5937610\n",
      "COPY 4289970\n",
      "COPY 68979133\n",
      "COPY 30729218\n",
      "COPY 147243\n",
      "COPY 400460\n",
      "COPY 7273036\n",
      "COPY 7273036\n",
      "CREATE VIEW\n",
      "CREATE VIEW\n",
      "CREATE VIEW\n",
      "CREATE VIEW\n",
      "CREATE VIEW\n",
      "CREATE VIEW\n"
     ]
    }
   ],
   "source": [
    "%%bash\n",
    "export SF=30\n",
    "./import-lsqb.sh"
   ]
  },
  {
   "cell_type": "markdown",
   "id": "78076a59-e13a-4bb1-a431-cb4029d271ed",
   "metadata": {},
   "source": [
    "## Fetch the SNAP data"
   ]
  },
  {
   "cell_type": "code",
   "execution_count": 14,
   "id": "3490e426-11cf-4a47-ae0b-4a47fd6718ca",
   "metadata": {},
   "outputs": [
    {
     "name": "stderr",
     "output_type": "stream",
     "text": [
      "  % Total    % Received % Xferd  Average Speed   Time    Time     Time  Current\n",
      "                                 Dload  Upload   Total   Spent    Left  Speed\n",
      "100 81.1M  100 81.1M    0     0  5427k      0  0:00:15  0:00:15 --:--:-- 12.8M\n"
     ]
    }
   ],
   "source": [
    "%%bash\n",
    "\n",
    "cd snap\n",
    "curl -O http://snap.stanford.edu/data/cit-Patents.txt.gz\n",
    "gunzip cit-Patents.txt.gz\n",
    "./remove-header.sh\n",
    "cd .."
   ]
  },
  {
   "cell_type": "markdown",
   "id": "ab415533-85c5-42d8-ac95-2ee758af0674",
   "metadata": {},
   "source": [
    "## Import the SNAP data"
   ]
  },
  {
   "cell_type": "code",
   "execution_count": 15,
   "id": "96ba4047-28b3-4ff3-b2e6-27969da86cce",
   "metadata": {},
   "outputs": [
    {
     "name": "stderr",
     "output_type": "stream",
     "text": [
      "psql:import-snap.sql:1: NOTICE:  table \"patents\" does not exist, skipping\n"
     ]
    },
    {
     "name": "stdout",
     "output_type": "stream",
     "text": [
      "DROP TABLE\n",
      "CREATE TABLE\n",
      "COPY 16518948\n"
     ]
    }
   ],
   "source": [
    "%%bash\n",
    "\n",
    "PGPASSWORD=snap psql -h postgres -U snap -d snap -f import-snap.sql"
   ]
  },
  {
   "cell_type": "markdown",
   "id": "a0bd7966-fa08-4cff-ab40-1363106cb910",
   "metadata": {},
   "source": [
    "## Generate the TPC-H data"
   ]
  },
  {
   "cell_type": "code",
   "execution_count": null,
   "id": "8a87e36c-cca6-4314-bcd0-0a0e2984d088",
   "metadata": {},
   "outputs": [
    {
     "name": "stderr",
     "output_type": "stream",
     "text": [
      "TPC-H Population Generator (Version 2.17.3)\n",
      "Copyright Transaction Processing Performance Council 1994 - 2010\n"
     ]
    }
   ],
   "source": [
    "%%bash\n",
    "\n",
    "export SF=100\n",
    "\n",
    "cd tpch-kit/dbgen\n",
    "\n",
    "yes y | ./dbgen -s $SF\n",
    "\n",
    "mkdir -p data-$SF\n",
    "\n",
    "mv *.tbl data-$SF/\n",
    "\n",
    "cd ../.."
   ]
  },
  {
   "cell_type": "markdown",
   "id": "72239307-1207-4bb5-87d9-7721dd3b38a3",
   "metadata": {},
   "source": [
    "## Import the TPC-H data"
   ]
  },
  {
   "cell_type": "code",
   "execution_count": null,
   "id": "4cd154b1-5879-40b3-b318-52c141c125c6",
   "metadata": {},
   "outputs": [],
   "source": [
    "%%bash\n",
    "\n",
    "export SF=50\n",
    "\n",
    "PGPASSWORD=tpch psql -h postgres -U tpch -f tpch-drop.sql\n",
    "\n",
    "tables=$( ls tpch-kit/dbgen/data-$SF/*.tbl | xargs -n 1 basename | sed 's/.tbl$//')\n",
    "\n",
    "for t in $tables; do\n",
    "        PGPASSWORD=tpch psql -h postgres -U tpch -c \"\\copy $t from 'tpch-kit/dbgen/data-$SF/${t}.tbl' DELIMITER '|';\"\n",
    "done\n"
   ]
  }
 ],
 "metadata": {
  "kernelspec": {
   "display_name": "Python 3 (ipykernel)",
   "language": "python",
   "name": "python3"
  },
  "language_info": {
   "codemirror_mode": {
    "name": "ipython",
    "version": 3
   },
   "file_extension": ".py",
   "mimetype": "text/x-python",
   "name": "python",
   "nbconvert_exporter": "python",
   "pygments_lexer": "ipython3",
   "version": "3.10.12"
  }
 },
 "nbformat": 4,
 "nbformat_minor": 5
}
